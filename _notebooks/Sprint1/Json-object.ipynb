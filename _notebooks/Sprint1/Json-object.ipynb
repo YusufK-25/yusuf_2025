{
 "cells": [
  {
   "cell_type": "code",
   "execution_count": 3,
   "metadata": {},
   "outputs": [
    {
     "data": {
      "application/javascript": "\nconst person = {\n    firstName: \"Yusuf\",\n    lastName: \"Khan\",\n    age: 15,\n    fullName: function() {\n        return this.firstName + \" \" + this.lastName + \" is \" + this.age + \" years old\";\n    }\n};\n\n// Display data from the object to the console\nconsole.log(person.firstName)\nconsole.log(person.lastName)\nconsole.log(person.fullName());\nconsole.log(person.age)\n// Display data from the object to jupyter notebook \nelement.append(person.fullName());\n",
      "text/plain": [
       "<IPython.core.display.Javascript object>"
      ]
     },
     "metadata": {},
     "output_type": "display_data"
    }
   ],
   "source": [
    "%%js\n",
    "\n",
    "const person = {\n",
    "    firstName: \"Yusuf\",\n",
    "    lastName: \"Khan\",\n",
    "    age: 15,\n",
    "    fullName: function() {\n",
    "        return this.firstName + \" \" + this.lastName + \" is \" + this.age + \" years old\";\n",
    "    }\n",
    "};\n",
    "\n",
    "// Display data from the object to the console\n",
    "console.log(person.firstName)\n",
    "console.log(person.lastName)\n",
    "console.log(person.fullName());\n",
    "console.log(person.age)\n",
    "// Display data from the object to jupyter notebook \n",
    "element.append(person.fullName());"
   ]
  }
 ],
 "metadata": {
  "kernelspec": {
   "display_name": "Python 3 (ipykernel)",
   "language": "python",
   "name": "python3"
  }
 },
 "nbformat": 4,
 "nbformat_minor": 2
}
