{
 "cells": [
  {
   "cell_type": "markdown",
   "metadata": {},
   "source": [
    "# <span style=\"color: lavender; text-shadow: 2px 2px 5px lavender;\">Variables Homework (Show what you know!) </span>\n",
    "\n",
    "### Homework Problem: Understanding JavaScript Variables \n",
    "\n",
    "### <span style=\"color: pink; text-shadow: 2px 2px 5px pink;\"> Creating Variables</span>\n",
    "\n",
    "\n",
    "1. **Create three variables as an object variable**:\n",
    "   - A variable called `studentName` that stores your name as a string.\n",
    "   - A variable called `age` that stores your age as a number.\n",
    "   - A variable called `isStudent` that stores a boolean value indicating whether you are a student (use `true` or `false`).\n",
    "\n",
    "   2. **Create a function variable that displays that your favorite song is playing**:\n",
    "   \n",
    "      - A variable called `favoriteSong` that stores the name of your favorite song.\n",
    "      - A variable called `songArtist` that stores the song's artist.\n",
    "      - A function called `playFavoriteSong` that logs a message saying \"Now playing [favoriteSong] by [songArtist]\".\n",
    "\n",
    "\n",
    "\n",
    "3. **Using the variables you created**, write a sentence using `console.log()` to display:\n",
    "   - Your name.\n",
    "   - Your age.\n",
    "   - Whether you are a student.\n",
    "   - An output that states that your favorite song is now playing\n",
    "\n",
    "\n",
    "   Example output:\n",
    "My name is [Your Name], I am [Your Age] years old, and it is [true/false] that I am a student. \n",
    "Now playing Champion by Kanye West"
   ]
  },
  {
   "cell_type": "code",
   "execution_count": 10,
   "metadata": {
    "vscode": {
     "languageId": "javascript"
    }
   },
   "outputs": [
    {
     "data": {
      "application/javascript": "\nlet studentName1 = \"Yusuf Khan\"; //This is a string variable\nlet age = \"15\"; \nlet isStudent = true; //This is a boolean variable\nlet favoriteSong = \"Fein\"; //Not actually true\nlet favoritteArtist = \"Travis Scott\"; //This is a string variable\nfunction playFavoriteSong(){\n    return \"Now Playing\" + favoriteSong + \"by\" + favoritteArtist;\n}\nconsole.log(studentName + age + isStudent + favoriteSong + favoritteArtist);\n",
      "text/plain": [
       "<IPython.core.display.Javascript object>"
      ]
     },
     "metadata": {},
     "output_type": "display_data"
    }
   ],
   "source": [
    "%%js\n",
    "\n",
    "let studentName1 = \"Yusuf Khan\"; //This is a string variable\n",
    "let age = \"15\"; \n",
    "let isStudent = true; //This is a boolean variable\n",
    "let favoriteSong = \"Fein\"; //Not actually true\n",
    "let favoritteArtist = \"Travis Scott\"; //This is a string variable\n",
    "function playFavoriteSong(){\n",
    "    return \"Now Playing\" + favoriteSong + \"by\" + favoritteArtist;\n",
    "}\n",
    "console.log(studentName + age + isStudent + favoriteSong + favoritteArtist);"
   ]
  },
  {
   "cell_type": "code",
   "execution_count": 12,
   "metadata": {
    "vscode": {
     "languageId": "html"
    }
   },
   "outputs": [
    {
     "data": {
      "text/html": [
       "<head>\n",
       "    <meta charset=\"UTF-8\">\n",
       "    <meta name=\"viewport\" content=\"width=device-width, initial-scale=1.0\">\n",
       "    <title>Display Student Info</title>\n",
       "    <style>\n",
       "        #infoDisplay {\n",
       "            margin-top: 10px;\n",
       "            padding: 10px;\n",
       "            border: 1px solid #ccc;\n",
       "            font-size: 1.2em;\n",
       "        }\n",
       "    </style>\n",
       "</head>\n",
       "\n",
       "<button id=\"displayInfoButton\">Show Student Info</button>\n",
       "<div id=\"infoDisplay\">\n",
       "    <!-- Placeholder text to ensure visibility -->\n",
       "    Click \"Show Student Info\" to display student information here.\n",
       "</div>\n",
       "\n",
       "<script>\n",
       "    // Variables\n",
       "    let studentName = \"Yusuf Khan\"; \n",
       "    let age = 15;\n",
       "    let isStudent = true;\n",
       "    let favoriteSong = \"The Duck Song\";\n",
       "    let songArtist = \"Bryant Oden\";\n",
       "\n",
       "    // Function to display the information\n",
       "    function displayInfo() {\n",
       "        document.getElementById(\"infoDisplay\").innerText = \n",
       "            `My name is ${studentName}, I am ${age} years old, and it is ${isStudent} that I am a student.\\nNow playing \"${favoriteSong}\" by ${songArtist}`;\n",
       "    }\n",
       "\n",
       "    // Event listener for button click\n",
       "    document.getElementById(\"displayInfoButton\").addEventListener(\"click\", displayInfo);\n",
       "</script>\n"
      ],
      "text/plain": [
       "<IPython.core.display.HTML object>"
      ]
     },
     "metadata": {},
     "output_type": "display_data"
    }
   ],
   "source": [
    "%%html\n",
    "<head>\n",
    "    <meta charset=\"UTF-8\">\n",
    "    <meta name=\"viewport\" content=\"width=device-width, initial-scale=1.0\">\n",
    "    <title>Display Student Info</title>\n",
    "    <style>\n",
    "        #infoDisplay {\n",
    "            margin-top: 10px;\n",
    "            padding: 10px;\n",
    "            border: 1px solid #ccc;\n",
    "            font-size: 1.2em;\n",
    "        }\n",
    "    </style>\n",
    "</head>\n",
    "\n",
    "<button id=\"displayInfoButton\">Show Student Info</button>\n",
    "<div id=\"infoDisplay\">\n",
    "    <!-- Placeholder text to ensure visibility -->\n",
    "    Click \"Show Student Info\" to display student information here.\n",
    "</div>\n",
    "\n",
    "<script>\n",
    "    // Variables\n",
    "    let studentName = \"Yusuf Khan\"; \n",
    "    let age = 15;\n",
    "    let isStudent = true;\n",
    "    let favoriteSong = \"The Duck Song\";\n",
    "    let songArtist = \"Bryant Oden\";\n",
    "\n",
    "    // Function to display the information\n",
    "    function displayInfo() {\n",
    "        document.getElementById(\"infoDisplay\").innerText = \n",
    "            `My name is ${studentName}, I am ${age} years old, and it is ${isStudent} that I am a student.\\nNow playing \"${favoriteSong}\" by ${songArtist}`;\n",
    "    }\n",
    "\n",
    "    // Event listener for button click\n",
    "    document.getElementById(\"displayInfoButton\").addEventListener(\"click\", displayInfo);\n",
    "</script>"
   ]
  }
 ],
 "metadata": {
  "kernelspec": {
   "display_name": "venv",
   "language": "python",
   "name": "python3"
  },
  "language_info": {
   "codemirror_mode": {
    "name": "ipython",
    "version": 3
   },
   "file_extension": ".py",
   "mimetype": "text/x-python",
   "name": "python",
   "nbconvert_exporter": "python",
   "pygments_lexer": "ipython3",
   "version": "3.10.12"
  }
 },
 "nbformat": 4,
 "nbformat_minor": 2
}
