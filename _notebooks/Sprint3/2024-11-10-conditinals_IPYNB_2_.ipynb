{
 "cells": [
  {
   "cell_type": "raw",
   "metadata": {
    "vscode": {
     "languageId": "raw"
    }
   },
   "source": [
    "---\n",
    "comments: True\n",
    "layout: post\n",
    "title: conditionals lesson\n",
    "description: An introduction to JavaScript conditionals\n",
    "permalink: /csse/javascript/fundamentals/conditionals\n",
    "type: ccc\n",
    "---"
   ]
  },
  {
   "cell_type": "markdown",
   "metadata": {},
   "source": [
    "<div style=\"display: flex; flex-wrap: wrap; gap: 10px; justify-content: center\">\n",
    "    <a href=\"{{site.baseurl}}/csse/javascript/fundamentals/conditionals/hacks\" style=\"text-decoration: none;\">\n",
    "        <div style=\"background-color: #0b73be; color: black; padding: 10px 20px; border-radius: 5px; font-weight: bold;\">\n",
    "           <center> Hacks</center>\n",
    "        </div>\n",
    "    </a>\n",
    "</div>"
   ]
  },
  {
   "cell_type": "markdown",
   "metadata": {},
   "source": [
    "## Lesson on If Statements in JavaScript"
   ]
  },
  {
   "cell_type": "markdown",
   "metadata": {},
   "source": [
    "# If Statement"
   ]
  },
  {
   "cell_type": "code",
   "execution_count": 70,
   "metadata": {
    "vscode": {
     "languageId": "javascript"
    }
   },
   "outputs": [
    {
     "data": {
      "application/javascript": "\nlet fruit = \"apple\"\n\nif (fruit === \"apple\"){\n    console.log(\"Thats sounds super yummy!\")\n}\n",
      "text/plain": [
       "<IPython.core.display.Javascript object>"
      ]
     },
     "metadata": {},
     "output_type": "display_data"
    }
   ],
   "source": [
    "// Prompt the user for their favorite fruit\n",
    "let fruit = prompt(\"What's your favorite fruit?\");\n",
    "\n",
    "// If the fruit is \"apple,\" respond with a specific message\n",
    "if (fruit === \"mango\") {\n",
    "    console.log(\"That sounds super yummy!\");\n",
    "}"
   ]
  },
  {
   "cell_type": "markdown",
   "metadata": {},
   "source": [
    "# If Else / If Elseif"
   ]
  },
  {
   "cell_type": "code",
   "execution_count": 2,
   "metadata": {
    "vscode": {
     "languageId": "javascript"
    }
   },
   "outputs": [
    {
     "data": {
      "application/javascript": "\n// Ask the user for their favorite fruit\nlet fruit = prompt(\"What's your favorite fruit?\");\n\nif (fruit.toLowerCase() === \"mango\") {\n    console.log(\"That sounds super yummy!\");\n} else {\n    console.log(`Oh, ${fruit} is alright, mangos are better!`);\n}\n",
      "text/plain": [
       "<IPython.core.display.Javascript object>"
      ]
     },
     "metadata": {},
     "output_type": "display_data"
    }
   ],
   "source": [
    "%%javascript\n",
    "\n",
    "// Ask the user for their favorite fruit\n",
    "let fruit = prompt(\"What's your favorite fruit?\");\n",
    "\n",
    "if (fruit.toLowerCase() === \"mango\") {\n",
    "    console.log(\"That sounds super yummy!\");\n",
    "} else {\n",
    "    console.log(`Oh, ${fruit} is alright, mangos are better!`);\n",
    "}"
   ]
  },
  {
   "cell_type": "markdown",
   "metadata": {},
   "source": [
    "Adding else{} after the previous set of {} will be ran if the conditions for the previous section are not met. Here's an example of an if and else if statement in a basic code cell."
   ]
  },
  {
   "cell_type": "code",
   "execution_count": 23,
   "metadata": {
    "vscode": {
     "languageId": "javascript"
    }
   },
   "outputs": [
    {
     "data": {
      "application/javascript": "\nlet fruit = \"banana\"\n\nif (fruit === \"apple\"){\n    console.log(\"Thats sounds super yummy!\")\n}else{if (fruit === \"banana\"){ \nconsole.log(\"Sounds great!\")\n}else{\n    console.log(\"YUCK! THATS NOT YUMMY\")\n}\n}\n",
      "text/plain": [
       "<IPython.core.display.Javascript object>"
      ]
     },
     "metadata": {},
     "output_type": "display_data"
    }
   ],
   "source": [
    "%%javascript\n",
    "\n",
    "let fruit = \"banana\"\n",
    "\n",
    "if (fruit === \"apple\"){\n",
    "    console.log(\"Thats sounds super yummy!\")\n",
    "}else{if (fruit === \"banana\"){ \n",
    "console.log(\"Sounds great!\")\n",
    "}else{\n",
    "    console.log(\"YUCK! THATS NOT YUMMY\")\n",
    "}\n",
    "}"
   ]
  },
  {
   "cell_type": "markdown",
   "metadata": {},
   "source": [
    "### How to setup these conditionals"
   ]
  },
  {
   "cell_type": "markdown",
   "metadata": {},
   "source": [
    "### Creating the frame\n",
    "```\n",
    "    if(value1 == value2){\n",
    "        \n",
    "    }\n",
    "```\n",
    "you need to add the if statment folowed by its perameters inside of () after the () add a \n",
    "set of {} to indecate what code will run when the perameters are met"
   ]
  },
  {
   "cell_type": "markdown",
   "metadata": {},
   "source": [
    "<script src=\"https://utteranc.es/client.js\"\n",
    "        repo=\"mrboiisthebest/william_2025\"\n",
    "        issue-term=\"title\"\n",
    "        label=\"blogpost-comment\"\n",
    "        theme=\"github-dark\"\n",
    "        crossorigin=\"anonymous\"\n",
    "        async>\n",
    "</script>"
   ]
  }
 ],
 "metadata": {
  "kernelspec": {
   "display_name": "Python 3 (ipykernel)",
   "language": "python",
   "name": "python3"
  },
  "language_info": {
   "codemirror_mode": {
    "name": "ipython",
    "version": 3
   },
   "file_extension": ".py",
   "mimetype": "text/x-python",
   "name": "python",
   "nbconvert_exporter": "python",
   "pygments_lexer": "ipython3",
   "version": "3.10.12"
  }
 },
 "nbformat": 4,
 "nbformat_minor": 2
}
