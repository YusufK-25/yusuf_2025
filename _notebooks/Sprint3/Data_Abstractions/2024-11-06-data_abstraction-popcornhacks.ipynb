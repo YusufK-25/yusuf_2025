{
 "cells": [
  {
   "cell_type": "code",
   "execution_count": null,
   "metadata": {},
   "outputs": [],
   "source": [
    "---\n",
    "comments: True\n",
    "layout: post \n",
    "title: Data Abstraction Hacks\n",
    "description: An intro to data abstraction\n",
    "permalink: /csse/javascript/fundamentals/data-abstraction-hacks\n",
    "type: ccc\n",
    "author: Veera Kalakota, Santhosh Karthik, Akhil Kulkarni\n",
    "---"
   ]
  },
  {
   "cell_type": "markdown",
   "metadata": {},
   "source": [
    "# Popcorn Hack #1\n",
    "Create a child class of the class **Appliance**, and call it's name() function"
   ]
  },
  {
   "cell_type": "code",
   "execution_count": 15,
   "metadata": {
    "vscode": {
     "languageId": "javascript"
    }
   },
   "outputs": [
    {
     "data": {
      "application/javascript": "class Appliance {\n    constructor(name) {\n        this.modelName = name; // Renamed property to avoid conflict\n    }\n    getName() {\n        return \"This is a \" + this.constructor.name + \", and the model is \" + this.modelName;\n    }\n}\n\nclass Microwave extends Appliance {\n    constructor(name) {\n        super(name); // Call the parent class constructor\n    }\n}\n\nconst myMicrowave = new Microwave(\"Microwave 2000\");\nconsole.log(myMicrowave.getName());\n",
      "text/plain": [
       "<IPython.core.display.Javascript object>"
      ]
     },
     "metadata": {},
     "output_type": "display_data"
    }
   ],
   "source": [
    "%%js\n",
    "class Appliance {\n",
    "    constructor(name) {\n",
    "        this.modelName = name; // Renamed property to avoid conflict\n",
    "    }\n",
    "    getName() {\n",
    "        return \"This is a \" + this.constructor.name + \", and the model is \" + this.modelName;\n",
    "    }\n",
    "}\n",
    "\n",
    "class Microwave extends Appliance {\n",
    "    constructor(name) {\n",
    "        super(name); // Call the parent class constructor\n",
    "    }\n",
    "}\n",
    "\n",
    "const myMicrowave = new Microwave(\"Microwave 2000\");\n",
    "console.log(myMicrowave.getName());\n"
   ]
  },
  {
   "cell_type": "markdown",
   "metadata": {},
   "source": [
    "### Popcorn Hack #2\n",
    "Create child classes of the product class with items, and add parameters depending on what it is. An example is provided of a bagel."
   ]
  },
  {
   "cell_type": "code",
   "execution_count": 16,
   "metadata": {
    "vscode": {
     "languageId": "javascript"
    }
   },
   "outputs": [
    {
     "data": {
      "application/javascript": "    class Product{\n        constructor(price,size,taxRate) {\n            this.price = price;\n            this.size = size;\n            this.taxRate = taxRate;\n        }   \n        getPrice() {\n            return this.price + this.taxRate * this.price;\n        }\n        product(){\n            const className = this.constructor.name.toLowerCase();\n            return \"You are ordering a \" + className + \" with a price of \" + this.getPrice() + \" dollars, a size of \" + this.size;\n        }\n    }\n    class Bagel extends Product{\n        constructor(price, size, taxRate, flavor) {\n            super(price, size, taxRate);\n            this.flavor = flavor;\n        }\n        getPrice(){\n            return super.getPrice() * this.size;\n        }\n        product(){\n            return super.product() + \" and a flavor of \" + this.flavor;\n        }\n    }\nvar sesameBagel = new Bagel(1.5, 2, 0.07, \"sesame\");\nconsole.log(sesameBagel.product());\n",
      "text/plain": [
       "<IPython.core.display.Javascript object>"
      ]
     },
     "metadata": {},
     "output_type": "display_data"
    }
   ],
   "source": [
    "%%js\n",
    "    class Product{\n",
    "        constructor(price,size,taxRate) {\n",
    "            this.price = price;\n",
    "            this.size = size;\n",
    "            this.taxRate = taxRate;\n",
    "        }   \n",
    "        getPrice() {\n",
    "            return this.price + this.taxRate * this.price;\n",
    "        }\n",
    "        product(){\n",
    "            const className = this.constructor.name.toLowerCase();\n",
    "            return \"You are ordering a \" + className + \" with a price of \" + this.getPrice() + \" dollars, a size of \" + this.size;\n",
    "        }\n",
    "    }\n",
    "    class Bagel extends Product{\n",
    "        constructor(price, size, taxRate, flavor) {\n",
    "            super(price, size, taxRate);\n",
    "            this.flavor = flavor;\n",
    "        }\n",
    "        getPrice(){\n",
    "            return super.getPrice() * this.size;\n",
    "        }\n",
    "        product(){\n",
    "            return super.product() + \" and a flavor of \" + this.flavor;\n",
    "        }\n",
    "    }\n",
    "var sesameBagel = new Bagel(1.5, 2, 0.07, \"sesame\");\n",
    "console.log(sesameBagel.product());"
   ]
  },
  {
   "cell_type": "code",
   "execution_count": 19,
   "metadata": {
    "vscode": {
     "languageId": "javascript"
    }
   },
   "outputs": [
    {
     "data": {
      "application/javascript": "class Product {\n    constructor(price, size, taxRate) {\n        this.price = price; // Base price\n        this.size = size; // General size (e.g., volume or weight)\n        this.taxRate = taxRate; // Tax rate as a decimal\n    }\n    getPrice() {\n        return this.price + this.taxRate * this.price;\n    }\n    product() {\n        const className = this.constructor.name.toLowerCase();\n        return `You are ordering a ${className} with a total price of $${this.getPrice().toFixed(2)}`;\n    }\n}\n\nclass Bagel extends Product {\n    constructor(price, size, taxRate, flavor, weightInGrams, taste) {\n        super(price, size, taxRate);\n        this.flavor = flavor; // Flavor of the bagel\n        this.weightInGrams = weightInGrams; // Weight of the bagel\n        this.taste = taste; // Taste profile of the bagel (e.g., sweet, savory, etc.)\n    }\n    getPrice() {\n        return super.getPrice() * (this.weightInGrams / 100); // Adjust price based on weight\n    }\n    product() {\n        return (\n            super.product() +\n            `, flavor: ${this.flavor}, weight: ${this.weightInGrams} grams, taste: ${this.taste}.`\n        );\n    }\n}\n\nclass Drink extends Product {\n    constructor(price, size, taxRate, isCarbonated, volumeInLiters, taste) {\n        super(price, size, taxRate);\n        this.isCarbonated = isCarbonated; // Carbonation status\n        this.volumeInLiters = volumeInLiters; // Volume of the drink\n        this.taste = taste; // Taste profile of the drink (e.g., sweet, bitter, etc.)\n    }\n    product() {\n        const carbonation = this.isCarbonated ? \"carbonated\" : \"non-carbonated\";\n        return (\n            super.product() +\n            `, it is ${carbonation}, volume: ${this.volumeInLiters.toFixed(2)} liters, taste: ${this.taste}.`\n        );\n    }\n}\n\n// Example instances\nvar sesameBagel = new Bagel(1.5, 2, 0.07, \"sesame\", 120, \"savory\");\nvar colaDrink = new Drink(2.0, 1, 0.08, true, 0.5, \"sweet\");\n\nconsole.log(sesameBagel.product());\nconsole.log(colaDrink.product());\n",
      "text/plain": [
       "<IPython.core.display.Javascript object>"
      ]
     },
     "metadata": {},
     "output_type": "display_data"
    }
   ],
   "source": [
    "%%js\n",
    "class Product {\n",
    "    constructor(price, size, taxRate) {\n",
    "        this.price = price; // Base price\n",
    "        this.size = size; // General size (e.g., volume or weight)\n",
    "        this.taxRate = taxRate; // Tax rate as a decimal\n",
    "    }\n",
    "    getPrice() {\n",
    "        return this.price + this.taxRate * this.price;\n",
    "    }\n",
    "    product() {\n",
    "        const className = this.constructor.name.toLowerCase();\n",
    "        return `You are ordering a ${className} with a total price of $${this.getPrice().toFixed(2)}`;\n",
    "    }\n",
    "}\n",
    "\n",
    "class Bagel extends Product {\n",
    "    constructor(price, size, taxRate, flavor, weightInGrams, taste) {\n",
    "        super(price, size, taxRate);\n",
    "        this.flavor = flavor; // Flavor of the bagel\n",
    "        this.weightInGrams = weightInGrams; // Weight of the bagel\n",
    "        this.taste = taste; // Taste profile of the bagel (e.g., sweet, savory, etc.)\n",
    "    }\n",
    "    getPrice() {\n",
    "        return super.getPrice() * (this.weightInGrams / 100); // Adjust price based on weight\n",
    "    }\n",
    "    product() {\n",
    "        return (\n",
    "            super.product() +\n",
    "            `, flavor: ${this.flavor}, weight: ${this.weightInGrams} grams, taste: ${this.taste}.`\n",
    "        );\n",
    "    }\n",
    "}\n",
    "\n",
    "class Drink extends Product {\n",
    "    constructor(price, size, taxRate, isCarbonated, volumeInLiters, taste) {\n",
    "        super(price, size, taxRate);\n",
    "        this.isCarbonated = isCarbonated; // Carbonation status\n",
    "        this.volumeInLiters = volumeInLiters; // Volume of the drink\n",
    "        this.taste = taste; // Taste profile of the drink (e.g., sweet, bitter, etc.)\n",
    "    }\n",
    "    product() {\n",
    "        const carbonation = this.isCarbonated ? \"carbonated\" : \"non-carbonated\";\n",
    "        return (\n",
    "            super.product() +\n",
    "            `, it is ${carbonation}, volume: ${this.volumeInLiters.toFixed(2)} liters, taste: ${this.taste}.`\n",
    "        );\n",
    "    }\n",
    "}\n",
    "\n",
    "// Example instances\n",
    "var sesameBagel = new Bagel(1.5, 2, 0.07, \"sesame\", 120, \"savory\");\n",
    "var colaDrink = new Drink(2.0, 1, 0.08, true, 0.5, \"sweet\");\n",
    "\n",
    "console.log(sesameBagel.product());\n",
    "console.log(colaDrink.product());\n"
   ]
  }
 ],
 "metadata": {
  "kernelspec": {
   "display_name": "venv",
   "language": "python",
   "name": "python3"
  },
  "language_info": {
   "codemirror_mode": {
    "name": "ipython",
    "version": 3
   },
   "file_extension": ".py",
   "mimetype": "text/x-python",
   "name": "python",
   "nbconvert_exporter": "python",
   "pygments_lexer": "ipython3",
   "version": "3.10.12"
  }
 },
 "nbformat": 4,
 "nbformat_minor": 2
}
