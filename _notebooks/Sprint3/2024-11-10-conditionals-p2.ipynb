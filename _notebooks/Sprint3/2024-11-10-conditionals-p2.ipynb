{
 "cells": [
  {
   "cell_type": "raw",
   "metadata": {
    "vscode": {
     "languageId": "raw"
    }
   },
   "source": [
    "---\n",
    "comments: True\n",
    "layout: post\n",
    "title: Lesson On JavaScript Conditionals Part 2\n",
    "description: A basic overview of the fundamentals of JavaScript conditionals\n",
    "permalink: /csse/javascript/fundamentals/conditionals_part2/\n",
    "type: ccc\n",
    "---"
   ]
  },
  {
   "cell_type": "markdown",
   "metadata": {},
   "source": [
    "<div style=\"display: flex; flex-wrap: wrap; gap: 10px; justify-content: center\">\n",
    "    <a href=\"{{site.baseurl}}/csse/javascript/fundamentals/conditionals/hacks\" style=\"text-decoration: none;\">\n",
    "        <div class=\"glow-button\" style=\"background: linear-gradient(135deg, #8e44ad, #3498db); color: #ffffff; padding: 15px 30px; border-radius: 10px; font-weight: bold; text-align: center; position: relative; overflow: hidden; box-shadow: 0 4px 10px rgba(0, 0, 0, 0.2); transition: transform 0.3s, box-shadow 0.3s;\">\n",
    "            <span style=\"font-size: 24px; position: relative; z-index: 1; color: #ffffff; text-shadow: 0 0 8px #ffffff, 0 0 16px #8e44ad;\">\n",
    "                Hacks\n",
    "            </span>\n",
    "            <span class=\"glow-effect\" style=\"position: absolute; top: 50%; left: 50%; width: 100%; height: 100%; border-radius: 10px; background: rgba(255, 255, 255, 0.1); opacity: 0; transition: opacity 0.3s;\"></span>\n",
    "        </div>\n",
    "    </a>\n",
    "</div>\n",
    "\n",
    "<style>\n",
    "    .glow-button {\n",
    "        position: relative;\n",
    "        z-index: 1;\n",
    "    }\n",
    "\n",
    "    .glow-button:hover {\n",
    "        transform: translateY(-4px);\n",
    "        box-shadow: 0 8px 20px rgba(0, 0, 0, 0.4);\n",
    "    }\n",
    "\n",
    "    .glow-button:hover .glow-effect {\n",
    "        opacity: 1;\n",
    "    }\n",
    "</style>\n"
   ]
  },
  {
   "cell_type": "code",
   "execution_count": 29,
   "metadata": {
    "vscode": {
     "languageId": "html"
    }
   },
   "outputs": [
    {
     "data": {
      "text/html": [
       "<head>\n",
       "    <meta charset=\"UTF-8\">\n",
       "    <meta name=\"viewport\" content=\"width=device-width, initial-scale=1.0\">\n",
       "    <title>If Statements Lesson</title>\n",
       "\n",
       "    <!-- Google Fonts -->\n",
       "    <link href=\"https://fonts.googleapis.com/css2?family=Roboto:wght@400;500&family=Playfair+Display:wght@700&display=swap\" rel=\"stylesheet\">\n",
       "\n",
       "    <style>\n",
       "        /* General body styling */\n",
       "        body {\n",
       "            font-family: 'Roboto', sans-serif;\n",
       "            color: #e0e0e0;\n",
       "            line-height: 1.8;\n",
       "            padding: 40px 20px;\n",
       "            max-width: 800px;\n",
       "            margin: 0 auto;\n",
       "            background-color: black;\n",
       "        }\n",
       "        \n",
       "        /* Main title */\n",
       "        h1 {\n",
       "            font-family: 'Playfair Display', serif;\n",
       "            font-size: 2.8em;\n",
       "            color: #76a9ff;\n",
       "            margin-bottom: 25px;\n",
       "            padding-bottom: 10px;\n",
       "            text-align: center;\n",
       "            text-shadow: 2px 2px 5px rgba(0, 0, 0, 0.4);\n",
       "            border-bottom: 2px solid #76a9ff;\n",
       "        }\n",
       "        \n",
       "        /* Section header */\n",
       "        h2 {\n",
       "            font-size: 1.8em;\n",
       "            color: #d1d1d1;\n",
       "            margin-bottom: 18px;\n",
       "            padding-bottom: 6px;\n",
       "            border-bottom: 1px solid #555;\n",
       "            text-shadow: 1px 1px 3px rgba(0, 0, 0, 0.3);\n",
       "        }\n",
       "        \n",
       "        /* Sub-section header */\n",
       "        h3 {\n",
       "            font-size: 1.6em;\n",
       "            color: #b0b0b0;\n",
       "            margin-bottom: 10px;\n",
       "            text-shadow: 1px 1px 2px rgba(0, 0, 0, 0.3);\n",
       "        }\n",
       "        \n",
       "        /* Paragraph text */\n",
       "        p {\n",
       "            font-size: 1.1em;\n",
       "            color: #cccccc;\n",
       "            margin-bottom: 18px;\n",
       "            text-align: justify;\n",
       "        }\n",
       "        \n",
       "        /* Syntax block styling */\n",
       "        p.syntax {\n",
       "            font-weight: 500;\n",
       "            color: #e0e0e0;\n",
       "            font-size: 1.1em;\n",
       "            margin-top: 25px;\n",
       "            padding: 15px;\n",
       "            background: #2a2a2a;\n",
       "            border-left: 4px solid #76a9ff;\n",
       "            border-radius: 5px;\n",
       "            box-shadow: 1px 2px 8px rgba(0, 0, 0, 0.5);\n",
       "        }\n",
       "        \n",
       "        /* Code styling inside syntax */\n",
       "        .syntax code, .example code {\n",
       "            font-family: 'Courier New', monospace;\n",
       "            color: #ffdd57;\n",
       "            font-size: 1em;\n",
       "            background-color: #222;\n",
       "            padding: 4px 6px;\n",
       "            border-radius: 3px;\n",
       "        }\n",
       "\n",
       "        /* Multi-line code block styling */\n",
       "        .syntax pre, .example pre {\n",
       "            font-family: 'Courier New', monospace;\n",
       "            color: #ffdd57;\n",
       "            background-color: #222;\n",
       "            padding: 10px;\n",
       "            border-radius: 5px;\n",
       "            overflow-x: auto;\n",
       "            white-space: pre-wrap;\n",
       "            line-height: 1.5;\n",
       "            margin-top: 5px;\n",
       "            box-shadow: inset 0px 0px 4px rgba(0, 0, 0, 0.3);\n",
       "        }\n",
       "\n",
       "        /* Example block styling for JavaScript */\n",
       "        .example {\n",
       "            font-weight: 500;\n",
       "            color: #e0e0e0;\n",
       "            font-size: 1.1em;\n",
       "            margin-top: 25px;\n",
       "            padding: 15px;\n",
       "            background: #1e1e1e;\n",
       "            border-left: 4px solid #ffdd57;\n",
       "            border-radius: 5px;\n",
       "            box-shadow: 1px 2px 8px rgba(0, 0, 0, 0.5);\n",
       "        }\n",
       "        \n",
       "    </style>\n",
       "</head>\n",
       "<body>\n",
       "\n",
       "    <h1>Lesson on If Statements in JavaScript</h1>\n",
       "\n",
       "    <h2>1. Basic IF Statements</h2>\n",
       "\n",
       "    <h3>What is an If Statement?</h3>\n",
       "\n",
       "    <p>An if statement is a fundamental control structure in programming that allows you to execute a block of code based on whether a specified condition evaluates to true. This structure enables decision-making within your program.</p>\n",
       "\n",
       "    <p class=\"syntax\">\n",
       "        <strong>Syntax:</strong>\n",
       "        <pre><code>if (condition) {\n",
       "    // code to execute if condition is true\n",
       "}</code></pre>\n",
       "    </p>\n",
       "    \n",
       "    <h2>Example of an IF Statement in JavaScript</h2>\n",
       "    \n",
       "    <p class=\"example\">\n",
       "        <strong>JavaScript Example:</strong>\n",
       "        <pre><code>// Prompt the user for their favorite fruit\n",
       "let fruit = prompt(\"What's your favorite fruit?\");\n",
       "\n",
       "// If the fruit is \"mango,\" respond with a specific message\n",
       "if (fruit === \"mango\") {\n",
       "    console.log(\"That sounds super yummy!\");\n",
       "}</code></pre>\n",
       "    </p>\n",
       "\n",
       "    <!-- JavaScript code to run the prompt -->\n",
       "    <script>\n",
       "        // Prompt the user for their favorite fruit\n",
       "        let fruit = prompt(\"What's your favorite fruit?\");\n",
       "\n",
       "        // If the fruit is \"mango,\" respond with a specific message\n",
       "        if (fruit === \"mango\") {\n",
       "            console.log(\"That sounds super yummy!\");\n",
       "        }\n",
       "    </script>\n",
       "    \n",
       "</body>\n",
       "</html>\n"
      ],
      "text/plain": [
       "<IPython.core.display.HTML object>"
      ]
     },
     "metadata": {},
     "output_type": "display_data"
    }
   ],
   "source": [
    "%%html\n",
    "<head>\n",
    "    <meta charset=\"UTF-8\">\n",
    "    <meta name=\"viewport\" content=\"width=device-width, initial-scale=1.0\">\n",
    "    <title>If Statements Lesson</title>\n",
    "\n",
    "    <!-- Google Fonts -->\n",
    "    <link href=\"https://fonts.googleapis.com/css2?family=Roboto:wght@400;500&family=Playfair+Display:wght@700&display=swap\" rel=\"stylesheet\">\n",
    "\n",
    "    <style>\n",
    "        /* General body styling */\n",
    "        body {\n",
    "            font-family: 'Roboto', sans-serif;\n",
    "            color: #e0e0e0;\n",
    "            line-height: 1.8;\n",
    "            padding: 40px 20px;\n",
    "            max-width: 800px;\n",
    "            margin: 0 auto;\n",
    "            background-color: black;\n",
    "        }\n",
    "        \n",
    "        /* Main title */\n",
    "        h1 {\n",
    "            font-family: 'Playfair Display', serif;\n",
    "            font-size: 2.8em;\n",
    "            color: #76a9ff;\n",
    "            margin-bottom: 25px;\n",
    "            padding-bottom: 10px;\n",
    "            text-align: center;\n",
    "            text-shadow: 2px 2px 5px rgba(0, 0, 0, 0.4);\n",
    "            border-bottom: 2px solid #76a9ff;\n",
    "        }\n",
    "        \n",
    "        /* Section header */\n",
    "        h2 {\n",
    "            font-size: 1.8em;\n",
    "            color: #d1d1d1;\n",
    "            margin-bottom: 18px;\n",
    "            padding-bottom: 6px;\n",
    "            border-bottom: 1px solid #555;\n",
    "            text-shadow: 1px 1px 3px rgba(0, 0, 0, 0.3);\n",
    "        }\n",
    "        \n",
    "        /* Sub-section header */\n",
    "        h3 {\n",
    "            font-size: 1.6em;\n",
    "            color: #b0b0b0;\n",
    "            margin-bottom: 10px;\n",
    "            text-shadow: 1px 1px 2px rgba(0, 0, 0, 0.3);\n",
    "        }\n",
    "        \n",
    "        /* Paragraph text */\n",
    "        p {\n",
    "            font-size: 1.1em;\n",
    "            color: #cccccc;\n",
    "            margin-bottom: 18px;\n",
    "            text-align: justify;\n",
    "        }\n",
    "        \n",
    "        /* Syntax block styling */\n",
    "        p.syntax {\n",
    "            font-weight: 500;\n",
    "            color: #e0e0e0;\n",
    "            font-size: 1.1em;\n",
    "            margin-top: 25px;\n",
    "            padding: 15px;\n",
    "            background: #2a2a2a;\n",
    "            border-left: 4px solid #76a9ff;\n",
    "            border-radius: 5px;\n",
    "            box-shadow: 1px 2px 8px rgba(0, 0, 0, 0.5);\n",
    "        }\n",
    "        \n",
    "        /* Code styling inside syntax */\n",
    "        .syntax code, .example code {\n",
    "            font-family: 'Courier New', monospace;\n",
    "            color: #ffdd57;\n",
    "            font-size: 1em;\n",
    "            background-color: #222;\n",
    "            padding: 4px 6px;\n",
    "            border-radius: 3px;\n",
    "        }\n",
    "\n",
    "        /* Multi-line code block styling */\n",
    "        .syntax pre, .example pre {\n",
    "            font-family: 'Courier New', monospace;\n",
    "            color: #ffdd57;\n",
    "            background-color: #222;\n",
    "            padding: 10px;\n",
    "            border-radius: 5px;\n",
    "            overflow-x: auto;\n",
    "            white-space: pre-wrap;\n",
    "            line-height: 1.5;\n",
    "            margin-top: 5px;\n",
    "            box-shadow: inset 0px 0px 4px rgba(0, 0, 0, 0.3);\n",
    "        }\n",
    "\n",
    "        /* Example block styling for JavaScript */\n",
    "        .example {\n",
    "            font-weight: 500;\n",
    "            color: #e0e0e0;\n",
    "            font-size: 1.1em;\n",
    "            margin-top: 25px;\n",
    "            padding: 15px;\n",
    "            background: #1e1e1e;\n",
    "            border-left: 4px solid #ffdd57;\n",
    "            border-radius: 5px;\n",
    "            box-shadow: 1px 2px 8px rgba(0, 0, 0, 0.5);\n",
    "        }\n",
    "        \n",
    "    </style>\n",
    "</head>\n",
    "<body>\n",
    "\n",
    "    <h1>Lesson on If Statements in JavaScript</h1>\n",
    "\n",
    "    <h2>1. Basic IF Statements</h2>\n",
    "\n",
    "    <h3>What is an If Statement?</h3>\n",
    "\n",
    "    <p>An if statement is a fundamental control structure in programming that allows you to execute a block of code based on whether a specified condition evaluates to true. This structure enables decision-making within your program.</p>\n",
    "\n",
    "    <p class=\"syntax\">\n",
    "        <strong>Syntax:</strong>\n",
    "        <pre><code>if (condition) {\n",
    "    // code to execute if condition is true\n",
    "}</code></pre>\n",
    "    </p>\n",
    "    \n",
    "    <h2>Example of an IF Statement in JavaScript</h2>\n",
    "    \n",
    "    <p class=\"example\">\n",
    "        <strong>JavaScript Example:</strong>\n",
    "        <pre><code>// Prompt the user for their favorite fruit\n",
    "let fruit = prompt(\"What's your favorite fruit?\");\n",
    "\n",
    "// If the fruit is \"mango,\" respond with a specific message\n",
    "if (fruit === \"mango\") {\n",
    "    console.log(\"That sounds super yummy!\");\n",
    "}</code></pre>\n",
    "    </p>\n",
    "\n",
    "    <!-- JavaScript code to run the prompt -->\n",
    "    <script>\n",
    "        // Prompt the user for their favorite fruit\n",
    "        let fruit = prompt(\"What's your favorite fruit?\");\n",
    "\n",
    "        // If the fruit is \"mango,\" respond with a specific message\n",
    "        if (fruit === \"mango\") {\n",
    "            console.log(\"That sounds super yummy!\");\n",
    "        }\n",
    "    </script>\n",
    "    \n",
    "</body>\n",
    "</html>"
   ]
  },
  {
   "cell_type": "code",
   "execution_count": 70,
   "metadata": {
    "vscode": {
     "languageId": "javascript"
    }
   },
   "outputs": [
    {
     "data": {
      "application/javascript": "\nlet fruit = \"apple\"\n\nif (fruit === \"apple\"){\n    console.log(\"Thats sounds super yummy!\")\n}\n",
      "text/plain": [
       "<IPython.core.display.Javascript object>"
      ]
     },
     "metadata": {},
     "output_type": "display_data"
    }
   ],
   "source": [
    "// Prompt the user for their favorite fruit\n",
    "let fruit = prompt(\"What's your favorite fruit?\");\n",
    "\n",
    "// If the fruit is \"apple,\" respond with a specific message\n",
    "if (fruit === \"mango\") {\n",
    "    console.log(\"That sounds super yummy!\");\n",
    "}"
   ]
  },
  {
   "cell_type": "markdown",
   "metadata": {},
   "source": [
    "## 2. Basic If Else / If Elseif"
   ]
  },
  {
   "cell_type": "markdown",
   "metadata": {},
   "source": [
    "### What is an If-Else Statement?"
   ]
  },
  {
   "cell_type": "markdown",
   "metadata": {},
   "source": [
    "An if-else statement expands upon the basic if statement by providing an alternative block of code that executes when the initial condition is evaluated as false. This allows you to create more complex decision trees in your programs."
   ]
  },
  {
   "cell_type": "markdown",
   "metadata": {},
   "source": [
    "Syntax for If-else statements"
   ]
  },
  {
   "cell_type": "code",
   "execution_count": null,
   "metadata": {
    "vscode": {
     "languageId": "javascript"
    }
   },
   "outputs": [],
   "source": [
    "if (condition) {\n",
    "    // code to execute if the condition is true\n",
    "} else {\n",
    "    // code to execute if the condition is false\n",
    "}"
   ]
  },
  {
   "cell_type": "code",
   "execution_count": 2,
   "metadata": {
    "vscode": {
     "languageId": "javascript"
    }
   },
   "outputs": [
    {
     "data": {
      "application/javascript": "\n// Ask the user for their favorite fruit\nlet fruit = prompt(\"What's your favorite fruit?\");\n\nif (fruit.toLowerCase() === \"mango\") {\n    console.log(\"That sounds super yummy!\");\n} else {\n    console.log(`Oh, ${fruit} is alright, mangos are better!`);\n}\n",
      "text/plain": [
       "<IPython.core.display.Javascript object>"
      ]
     },
     "metadata": {},
     "output_type": "display_data"
    }
   ],
   "source": [
    "%%javascript\n",
    "\n",
    "// Ask the user for their favorite fruit\n",
    "let fruit = prompt(\"What's your favorite fruit?\");\n",
    "// Ensure everything is lowercase, as the imputs are case sensitive.\n",
    "if (fruit.toLowerCase)( === \"mango\") {\n",
    "    console.log(\"That sounds super yummy!\");\n",
    "} else {\n",
    "    console.log(`Oh, ${fruit} is alright, mangos are better!`);\n",
    "}"
   ]
  },
  {
   "cell_type": "markdown",
   "metadata": {},
   "source": [
    "Adding else{} after the previous set of {} will be ran if the conditions for the previous section are not met. Here's an example of an if and else if statement in a basic code cell."
   ]
  },
  {
   "cell_type": "markdown",
   "metadata": {},
   "source": [
    "To further understanding of the fundamentals of if statements, here's a code block with a possible code that incorporates if statements, elseif statements, and else statements."
   ]
  },
  {
   "cell_type": "code",
   "execution_count": 2,
   "metadata": {
    "vscode": {
     "languageId": "html"
    }
   },
   "outputs": [
    {
     "data": {
      "text/html": [
       "<div>\n",
       "    <label for=\"favoriteFruit\">Enter your favorite fruit:</label>\n",
       "    <input type=\"text\" id=\"favoriteFruit\" name=\"favoriteFruit\">\n",
       "    <button onclick=\"checkFavoriteFruit()\">Submit</button>\n",
       "</div>\n",
       "\n",
       "<script>\n",
       "    function checkFavoriteFruit() {\n",
       "        let fruit = document.getElementById('favoriteFruit').value.trim();\n",
       "        \n",
       "        if (fruit === \"apple\") {\n",
       "            console.log(\"That sounds super yummy!\"); // Response for \"apple\"\n",
       "        } else if (fruit === \"banana\") {\n",
       "            console.log(\"Sounds great!\"); // Response for \"banana\"\n",
       "        } else {\n",
       "            console.log(\"YUCK! THAT'S NOT YUMMY\"); // Response for any other fruit\n",
       "        }\n",
       "    }\n",
       "</script>\n"
      ],
      "text/plain": [
       "<IPython.core.display.HTML object>"
      ]
     },
     "metadata": {},
     "output_type": "display_data"
    }
   ],
   "source": [
    "%%html\n",
    "<div>\n",
    "    <label for=\"favoriteFruit\">Enter your favorite fruit:</label>\n",
    "    <input type=\"text\" id=\"favoriteFruit\" name=\"favoriteFruit\">\n",
    "    <button onclick=\"checkFavoriteFruit()\">Submit</button>\n",
    "</div>\n",
    "\n",
    "<script>\n",
    "    function checkFavoriteFruit() {\n",
    "        let fruit = document.getElementById('favoriteFruit').value.trim();\n",
    "        \n",
    "        if (fruit === \"apple\") {\n",
    "            console.log(\"That sounds super yummy!\"); // Response for \"apple\"\n",
    "        } else if (fruit === \"banana\") {\n",
    "            console.log(\"Sounds great!\"); // Response for \"banana\"\n",
    "        else if (fruit === \"🥷🏿\") {\n",
    "            console.log(\"Daddy!\"); // Response for \"Emoji\", a little easter egg\n",
    "        } else {\n",
    "            console.log(\"YUCK! THAT'S NOT YUMMY\"); // Response for any other fruit\n",
    "        }\n",
    "    }\n",
    "</script>\n"
   ]
  },
  {
   "cell_type": "markdown",
   "metadata": {},
   "source": [
    "## Explanation of the Code\n",
    "\n",
    "This code snippet demonstrates how to use **`if`** and **`else if`** statements in JavaScript to provide feedback based on user input.\n",
    "### Joint Use of if and else if Statements\n",
    "This example effectively illustrates the joint use of if and else if statements.\n",
    "\n",
    "| Statement Type  | Purpose                                                                                     |\n",
    "|------------------|---------------------------------------------------------------------------------------------|\n",
    "| **if Statement**  | Defines the primary condition (checking for \"apple\").                                      |\n",
    "| **else if Statement** | Allows for additional conditions to be checked (here, checking for \"banana\").          |\n",
    "| **else Statement** | Serves as a catch-all for any other inputs, providing a default response if none of the previous conditions are met. |\n",
    "---\n"
   ]
  },
  {
   "cell_type": "markdown",
   "metadata": {},
   "source": [
    "<script src=\"https://utteranc.es/client.js\"\n",
    "        repo=\"mrboiisthebest/william_2025\"\n",
    "        issue-term=\"title\"\n",
    "        label=\"blogpost-comment\"\n",
    "        theme=\"github-dark\"\n",
    "        crossorigin=\"anonymous\"\n",
    "        async>\n",
    "</script>"
   ]
  }
 ],
 "metadata": {
  "kernelspec": {
   "display_name": "Python 3 (ipykernel)",
   "language": "python",
   "name": "python3"
  },
  "language_info": {
   "codemirror_mode": {
    "name": "ipython",
    "version": 3
   },
   "file_extension": ".py",
   "mimetype": "text/x-python",
   "name": "python",
   "nbconvert_exporter": "python",
   "pygments_lexer": "ipython3",
   "version": "3.10.12"
  }
 },
 "nbformat": 4,
 "nbformat_minor": 2
}
