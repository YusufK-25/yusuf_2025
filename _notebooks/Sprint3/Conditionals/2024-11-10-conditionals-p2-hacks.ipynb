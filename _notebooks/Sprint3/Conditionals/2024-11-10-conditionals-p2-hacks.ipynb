{
 "cells": [
  {
   "cell_type": "raw",
   "metadata": {
    "vscode": {
     "languageId": "raw"
    }
   },
   "source": [
    "---\n",
    "comments: True\n",
    "layout: post\n",
    "title: Conditionals Hacks\n",
    "description: Required hacks for the conditionals lesson.\n",
    "permalink: /csse/javascript/fundamentals/conditionals/hacks\n",
    "type: ccc\n",
    "---"
   ]
  },
  {
   "cell_type": "markdown",
   "metadata": {},
   "source": [
    "### <span style=\"color: #ADD8E6; text-shadow: 3px 3px 8px #4682B4; font-weight: bold; font-size: 2em;\">Homework:</span>\n",
    "\n",
    "#### <span style=\"color: #FF6347; text-shadow: 2px 2px 6px #8B0000; font-weight: bold; font-size: 1.5em;\">Objectives</span>\n",
    "\n",
    "<span style=\"font-size: 1.2em; color: #D3D3D3; line-height: 1.8;\">\n",
    "  <br><strong>Option 1:</strong> Create a simple combat system. \n",
    "  - Allow characters to fight enemies. \n",
    "  - Use basic functions and conditionals in JavaScript. \n",
    "  - Focus on making it easy to understand how battles work.\n",
    "\n",
    "  <br><br>\n",
    "  <strong>Option 2:</strong> Make a dialogue system for your NPC (Non-Player Character). \n",
    "  - Use the <code style=\"color: #7FFFD4;\">prompt()</code> function to ask the player for a response (choose a number from 1 to 4).\n",
    "  - This dialogue should appear when the player gets close to the NPC and presses a button. \n",
    "</span>\n",
    "\n",
    "### Additional Tips:\n",
    "- **For Option 1:**\n",
    "  - Start by writing down what the characters and enemies will be. Create simple names and attributes (like health).\n",
    "  - Use `console.log()` to print out what’s happening at each step. This will help you understand the flow of your code.\n",
    "  - Look for example code online to see how others have created combat systems. Don’t be afraid to borrow ideas!\n",
    "\n",
    "- **For Option 2:**\n",
    "  - Plan out the dialogue options before you start coding. Write them down in a list.\n",
    "  - Use comments in your code to remind yourself what each part does. For example, `// Ask the player for a response`.\n",
    "  - Test your code frequently. After writing a few lines, run it to see if it works before adding more.\n"
   ]
  }
 ],
 "metadata": {
  "language_info": {
   "name": "python"
  }
 },
 "nbformat": 4,
 "nbformat_minor": 2
}
