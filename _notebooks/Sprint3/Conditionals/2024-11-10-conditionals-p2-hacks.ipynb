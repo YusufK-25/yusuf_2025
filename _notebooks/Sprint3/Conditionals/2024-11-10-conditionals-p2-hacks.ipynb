{
 "cells": [
  {
   "cell_type": "raw",
   "metadata": {
    "vscode": {
     "languageId": "raw"
    }
   },
   "source": [
    "---\n",
    "comments: True\n",
    "layout: post\n",
    "title: Conditionals Hacks\n",
    "description: Required hacks for the conditionals lesson.\n",
    "permalink: /csse/javascript/fundamentals/conditionals/hacks\n",
    "type: ccc\n",
    "---"
   ]
  },
  {
   "cell_type": "markdown",
   "metadata": {},
   "source": [
    "## <span style=\"color: #ADD8E6; text-shadow: 3px 3px 8px #4682B4; font-weight: bold;\"> Popcorn Hack 1: Create a Simple Combat System for Your RPG Game</span>\n",
    "\n",
    "### <span style=\"color: #FF6347; text-shadow: 2px 2px 6px #8B0000; font-weight: bold;\">Objectives</span>\n",
    "\n",
    "<span style=\"font-size: 1.1em; color: #D3D3D3;\">Develop a basic combat system that allows characters to engage in battles with enemies. This will help you practice using functions, conditionals, and basic game mechanics in JavaScript.</span>\n"
   ]
  }
 ],
 "metadata": {
  "language_info": {
   "name": "python"
  }
 },
 "nbformat": 4,
 "nbformat_minor": 2
}
