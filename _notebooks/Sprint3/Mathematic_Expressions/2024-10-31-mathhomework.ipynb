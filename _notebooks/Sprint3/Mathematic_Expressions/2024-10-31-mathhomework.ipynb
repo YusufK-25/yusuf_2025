{
 "cells": [
  {
   "cell_type": "raw",
   "metadata": {
    "vscode": {
     "languageId": "raw"
    }
   },
   "source": [
    "---\n",
    "layout: post\n",
    "title: Javascript Mathematical Operations\n",
    "description: Homework\n",
    "categories: [JavaScript]\n",
    "comments: True\n",
    "---"
   ]
  },
  {
   "cell_type": "markdown",
   "metadata": {},
   "source": [
    "## Problem 1: Basic Arithmetic\n",
    "Define two variables, `a` and `b`, with values of your choice. Compute the following operations and log each result to the console:\n",
    "1. Sum of `a` and `b`\n",
    "2. Difference of `a` and `b`\n",
    "3. Product of `a` and `b`\n",
    "4. Quotient of `a` divided by `b`\n",
    "\n",
    "Console.log code \n",
    "\n",
    "console.log(\"Sum:\", a + b);          \n",
    "console.log(\"Difference:\", a - b);   \n",
    "console.log(\"Product:\", a * b);      \n",
    "console.log(\"Quotient:\", a / b);"
   ]
  },
  {
   "cell_type": "code",
   "execution_count": 8,
   "metadata": {
    "vscode": {
     "languageId": "javascript"
    }
   },
   "outputs": [
    {
     "data": {
      "application/javascript": "let a = 10;\nlet b = 25;\nconsole.log (\"The sum of these numbers is\" ,a + b);\nconsole.log (\"After subtriacting the two numbers, the answer is\" ,a - b);\nconsole.log (\"When you multiply the two, you get\" ,a * b);\nconsole.log (\"When you divide the two, you get\" ,a / b);\n",
      "text/plain": [
       "<IPython.core.display.Javascript object>"
      ]
     },
     "metadata": {},
     "output_type": "display_data"
    }
   ],
   "source": [
    "%%js\n",
    "let a = 10;\n",
    "let b = 25;\n",
    "console.log (\"The sum of these numbers is\" ,a + b);\n",
    "console.log (\"After subtriacting the two numbers, the answer is\" ,a - b);\n",
    "console.log (\"When you multiply the two, you get\" ,a * b);\n",
    "console.log (\"When you divide the two, you get\" ,a / b);"
   ]
  },
  {
   "cell_type": "markdown",
   "metadata": {},
   "source": [
    "## Problem 2: Modulus Operator\n",
    "Define two numbers, `num1` and `num2`. Use the modulus operator `%` to find the remainder when `num1` is divided by `num2`. Log the result to the console.\n",
    "### Instructions:\n",
    "1. Define a variable `num1` (the dividend).\n",
    "2. Define a variable `num2` (the divisor).\n",
    "3. Use the modulus operator `num1 % num2` to calculate the remainder.\n",
    "4. Log the result to the console using `console.log()`.\n",
    " \n",
    "console.log code \n",
    "\n",
    "console.log(\"Remainder:\", YOURVARIABLE (CORRECT MATHEMATICAL OPERATION) YOUROTHERVARIABLE);  // Output: 1"
   ]
  },
  {
   "cell_type": "code",
   "execution_count": null,
   "metadata": {
    "vscode": {
     "languageId": "javascript"
    }
   },
   "outputs": [
    {
     "data": {
      "application/javascript": "// Define variables for the dividend and divisor\nconst num1 = 10;  // Replace with any integer\nconst num2 = 3;   // Replace with any integer\n\n// Calculate the remainder\nconst remainder = num1 % num2;\n\n// Log the result to the console\nconsole.log(\"Remainder:\", remainder);  // Expected Output: 1 if num1 = 10, num2 = 3\n",
      "text/plain": [
       "<IPython.core.display.Javascript object>"
      ]
     },
     "metadata": {},
     "output_type": "display_data"
    }
   ],
   "source": [
    "%%js\n",
    "// Define variables for the dividend and divisor\n",
    "const num1 = 10;  // Replace with any integer\n",
    "const num2 = 3;   // Replace with any integer\n",
    "\n",
    "// Calculate the remainder\n",
    "const remainder = num1 % num2;\n",
    "\n",
    "// Log the result to the console\n",
    "console.log(\"Remainder:\", remainder);  // Expected Output: 1 "
   ]
  },
  {
   "cell_type": "markdown",
   "metadata": {},
   "source": [
    "## Problem 3: Increment and Decrement\n",
    "Define a variable `count` and set it to an initial value. Increment and then decrement the variable in two different ways:\n",
    "1. Using the `++` and `--` operators.\n",
    "2. Using the `+=` and `-=` operators.\n",
    "Log the result after each operation.\n",
    "### Instructions:\n",
    "1. Define a variable `count` and assign it an initial value (e.g., 10).\n",
    "2. Use `++` to increment the variable by 1 and log the result.\n",
    "3. Use `--` to decrement the variable by 1 and log the result.\n",
    "4. Use `+=` to increment the variable by a specific value and log the result.\n",
    "5. Use `-=` to decrement the variable by a specific value and log the result.\n",
    "6. Log result 3 times (Use these operations to increment/decremnt your number atleast 3 times)\n",
    "### Example:\n",
    "```javascript\n",
    "let count = 10;\n",
    "// Increment using ++\n",
    "count++;\n",
    "console.log(\"Initial Count:\", count);  // Output: 10\n"
   ]
  },
  {
   "cell_type": "markdown",
   "metadata": {},
   "source": [
    "### Answer:"
   ]
  },
  {
   "cell_type": "code",
   "execution_count": 6,
   "metadata": {
    "vscode": {
     "languageId": "javascript"
    }
   },
   "outputs": [
    {
     "data": {
      "application/javascript": "\nlet count = 10;\n\ncount++;\nlet result1 = `After incrementing with ++, the answer would be ${count}.`;\n\ncount--;\nlet result2 = `After decrementing with --, the answer would be ${count}.`;\n\ncount += 5;\nlet result3 = `After incrementing with += 5, the answer would be ${count}.`;\n\ncount -= 3;\nlet result4 = `After decrementing with -= 3, the answer would be ${count}.`;\n\ncount++;\nlet result5 = `After another increment with ++, the answer would be ${count}.`;\n\ncount--;\nlet result6 = `After another decrement with --, the answer would be ${count}.`;\n\ncount += 2; \nlet result7 = `After another increment with += 2, the answer would be ${count}.`;\n\ncount -= 4; \nlet result8 = `After another decrement with -= 4, the answer would be ${count}.`;\n\nconsole.log(\n  result1,\n  result2,\n  result3,\n  result4,\n  result5,\n  result6,\n  result7,\n  result8\n);\n",
      "text/plain": [
       "<IPython.core.display.Javascript object>"
      ]
     },
     "metadata": {},
     "output_type": "display_data"
    }
   ],
   "source": [
    "%%js\n",
    "\n",
    "let count = 10;\n",
    "\n",
    "count++;\n",
    "let result1 = `After incrementing with ++, the answer would be ${count}.`;\n",
    "\n",
    "count--;\n",
    "let result2 = `After decrementing with --, the answer would be ${count}.`;\n",
    "\n",
    "count += 5;\n",
    "let result3 = `After incrementing with += 5, the answer would be ${count}.`;\n",
    "\n",
    "count -= 3;\n",
    "let result4 = `After decrementing with -= 3, the answer would be ${count}.`;\n",
    "\n",
    "count++;\n",
    "let result5 = `After another increment with ++, the answer would be ${count}.`;\n",
    "\n",
    "count--;\n",
    "let result6 = `After another decrement with --, the answer would be ${count}.`;\n",
    "\n",
    "count += 2; \n",
    "let result7 = `After another increment with += 2, the answer would be ${count}.`;\n",
    "\n",
    "count -= 4; \n",
    "let result8 = `After another decrement with -= 4, the answer would be ${count}.`;\n",
    "\n",
    "console.log(\n",
    "  result1,\n",
    "  result2,\n",
    "  result3,\n",
    "  result4,\n",
    "  result5,\n",
    "  result6,\n",
    "  result7,\n",
    "  result8\n",
    ");\n"
   ]
  }
 ],
 "metadata": {
  "kernelspec": {
   "display_name": "venv",
   "language": "python",
   "name": "python3"
  },
  "language_info": {
   "codemirror_mode": {
    "name": "ipython",
    "version": 3
   },
   "file_extension": ".py",
   "mimetype": "text/x-python",
   "name": "python",
   "nbconvert_exporter": "python",
   "pygments_lexer": "ipython3",
   "version": "3.10.12"
  }
 },
 "nbformat": 4,
 "nbformat_minor": 2
}
