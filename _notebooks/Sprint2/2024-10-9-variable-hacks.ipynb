{
 "cells": [
  {
   "cell_type": "raw",
   "metadata": {
    "vscode": {
     "languageId": "raw"
    }
   },
   "source": [
    "---\n",
    "comments: True\n",
    "layout: post\n",
    "title: Variabel Hacks\n",
    "description: An introduction to JavaScript variables, input, and output\n",
    "permalink: /csse/javascript/fundamentals/variableHacks\n",
    "type: ccc\n",
    "---"
   ]
  },
  {
   "cell_type": "markdown",
   "metadata": {},
   "source": [
    "### Popcorn Hack 1\n",
    "\n",
    "Make a code cell that show usage of compound assignment in a Data Type Operations."
   ]
  },
  {
   "cell_type": "code",
   "execution_count": 1,
   "metadata": {
    "vscode": {
     "languageId": "html"
    }
   },
   "outputs": [
    {
     "data": {
      "text/html": [
       "\n",
       "<div>\n",
       "    <label for=\"hp\">Enter Current HP (1 to 100):</label>\n",
       "    <input type=\"number\" id=\"hp\" name=\"hp\" min=\"1\" max=\"100\" step=\"1\" value=\"50\">\n",
       "    <button onclick=\"takeDamage()\">Take Damage</button>\n",
       "    <button onclick=\"heal()\">Heal</button>\n",
       "    <label id=\"status\"></label>\n",
       "</div>\n",
       "\n",
       "<script>\n",
       "    // Initialize player stats\n",
       "    if (typeof playerStats === 'undefined') {\n",
       "        var playerStats = { \n",
       "            maxHP: 100, \n",
       "            currentHP: null \n",
       "        };\n",
       "    }\n",
       "\n",
       "    // Function to set the player's initial HP\n",
       "    function setHP() {\n",
       "        const hp = parseInt(document.getElementById(\"hp\").value);\n",
       "        let status = document.getElementById(\"status\");\n",
       "        if (hp < 1 || hp > playerStats.maxHP) {\n",
       "            console.warn(\"Invalid HP value entered!\");\n",
       "            status.innerHTML = \"Invalid HP!\";\n",
       "            return false;\n",
       "        }\n",
       "        console.log(\"Setting HP to: \" + hp);\n",
       "        playerStats.currentHP = hp;\n",
       "        console.log(playerStats);\n",
       "        status.innerHTML = `Current HP: ${playerStats.currentHP}`;\n",
       "        return true;\n",
       "    }\n",
       "\n",
       "    // Function to apply damage to the player\n",
       "    function takeDamage() {\n",
       "        if (!setHP()) return; // Ensure HP is valid\n",
       "        let damage = Math.floor(Math.random() * 20) + 1; // Random damage between 1 and 20\n",
       "        console.log(\"Taking damage: \" + damage);\n",
       "        playerStats.currentHP -= damage; // Compound assignment -=\n",
       "        if (playerStats.currentHP < 0) playerStats.currentHP = 0; // Prevent negative HP\n",
       "        console.log(\"HP after damage: \" + playerStats.currentHP);\n",
       "        document.getElementById(\"status\").innerHTML = `You took ${damage} damage! Current HP: ${playerStats.currentHP}`;\n",
       "    }\n",
       "\n",
       "    // Function to heal the player\n",
       "    function heal() {\n",
       "        if (!setHP()) return; // Ensure HP is valid\n",
       "        let healAmount = Math.floor(Math.random() * 15) + 1; // Random heal between 1 and 15\n",
       "        console.log(\"Healing: \" + healAmount);\n",
       "        playerStats.currentHP += healAmount; // Compound assignment +=\n",
       "        if (playerStats.currentHP > playerStats.maxHP) playerStats.currentHP = playerStats.maxHP; // Cap at max HP\n",
       "        console.log(\"HP after healing: \" + playerStats.currentHP);\n",
       "        document.getElementById(\"status\").innerHTML = `You healed ${healAmount} HP! Current HP: ${playerStats.currentHP}`;\n",
       "    }\n",
       "</script>\n"
      ],
      "text/plain": [
       "<IPython.core.display.HTML object>"
      ]
     },
     "metadata": {},
     "output_type": "display_data"
    }
   ],
   "source": [
    "%%html\n",
    "\n",
    "<div>\n",
    "    <label for=\"hp\">Enter Current HP (1 to 100):</label>\n",
    "    <input type=\"number\" id=\"hp\" name=\"hp\" min=\"1\" max=\"100\" step=\"1\" value=\"50\">\n",
    "    <button onclick=\"takeDamage()\">Take Damage</button>\n",
    "    <button onclick=\"heal()\">Heal</button>\n",
    "    <label id=\"status\"></label>\n",
    "</div>\n",
    "\n",
    "<script>\n",
    "    // Initialize player stats\n",
    "    if (typeof playerStats === 'undefined') {\n",
    "        var playerStats = { \n",
    "            maxHP: 100, \n",
    "            currentHP: null \n",
    "        };\n",
    "    }\n",
    "\n",
    "    // Function to set the player's initial HP\n",
    "    function setHP() {\n",
    "        const hp = parseInt(document.getElementById(\"hp\").value);\n",
    "        let status = document.getElementById(\"status\");\n",
    "        if (hp < 1 || hp > playerStats.maxHP) {\n",
    "            console.warn(\"Invalid HP value entered!\");\n",
    "            status.innerHTML = \"Invalid HP!\";\n",
    "            return false;\n",
    "        }\n",
    "        console.log(\"Setting HP to: \" + hp);\n",
    "        playerStats.currentHP = hp;\n",
    "        console.log(playerStats);\n",
    "        status.innerHTML = `Current HP: ${playerStats.currentHP}`;\n",
    "        return true;\n",
    "    }\n",
    "\n",
    "    // Function to apply damage to the player\n",
    "    function takeDamage() {\n",
    "        if (!setHP()) return; // Ensure HP is valid\n",
    "        let damage = Math.floor(Math.random() * 20) + 1; // Random damage between 1 and 20\n",
    "        console.log(\"Taking damage: \" + damage);\n",
    "        playerStats.currentHP -= damage; // Compound assignment -=\n",
    "        if (playerStats.currentHP < 0) playerStats.currentHP = 0; // Prevent negative HP\n",
    "        console.log(\"HP after damage: \" + playerStats.currentHP);\n",
    "        document.getElementById(\"status\").innerHTML = `You took ${damage} damage! Current HP: ${playerStats.currentHP}`;\n",
    "    }\n",
    "\n",
    "    // Function to heal the player\n",
    "    function heal() {\n",
    "        if (!setHP()) return; // Ensure HP is valid\n",
    "        let healAmount = Math.floor(Math.random() * 15) + 1; // Random heal between 1 and 15\n",
    "        console.log(\"Healing: \" + healAmount);\n",
    "        playerStats.currentHP += healAmount; // Compound assignment +=\n",
    "        if (playerStats.currentHP > playerStats.maxHP) playerStats.currentHP = playerStats.maxHP; // Cap at max HP\n",
    "        console.log(\"HP after healing: \" + playerStats.currentHP);\n",
    "        document.getElementById(\"status\").innerHTML = `You healed ${healAmount} HP! Current HP: ${playerStats.currentHP}`;\n",
    "    }\n",
    "</script>\n"
   ]
  }
 ],
 "metadata": {
  "kernelspec": {
   "display_name": "venv",
   "language": "python",
   "name": "python3"
  },
  "language_info": {
   "codemirror_mode": {
    "name": "ipython",
    "version": 3
   },
   "file_extension": ".py",
   "mimetype": "text/x-python",
   "name": "python",
   "nbconvert_exporter": "python",
   "pygments_lexer": "ipython3",
   "version": "3.10.12"
  }
 },
 "nbformat": 4,
 "nbformat_minor": 2
}
