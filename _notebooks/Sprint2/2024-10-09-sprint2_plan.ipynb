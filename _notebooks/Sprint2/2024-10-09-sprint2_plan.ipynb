{
 "cells": [
  {
   "cell_type": "raw",
   "metadata": {
    "vscode": {
     "languageId": "raw"
    }
   },
   "source": [
    "---\n",
    "layout: post\n",
    "title: Sprint 2 - CSSE Objectives \n",
    "description:  Student Teach and Software Development Objectives for Sprint 2\n",
    "type: issues \n",
    "permalink: /csse/javascript/fundamentals/sprint-2-objectives\n",
    "courses: { csse: {week: 4} }\n",
    "comments: true\n",
    "---"
   ]
  },
  {
   "cell_type": "markdown",
   "metadata": {},
   "source": [
    "## Issues\n",
    "Teacher and Self evaluation are critical to our success and improvements.   Be sure to add evidence."
   ]
  },
  {
   "cell_type": "markdown",
   "metadata": {},
   "source": [
    "## What we did in Sprint 2, and what I could improve on.\n",
    "### Sprint2: Introduction to Development with JavaScript\n",
    "A key focus of this course is to make Web Games using JavaScript. These next few weeks we covered  object-oriented programming in JavaScript with game emphasis. Topics include control structures, data types, input/output, operators, classes, methods and parameters, basic inheritance, and documentation practices. \n",
    "\n"
   ]
  },
  {
   "cell_type": "markdown",
   "metadata": {},
   "source": [
    "##  Assignment Grading Table \n",
    "\n",
    "| **Assignment**               | **Points** | **Grade** | **Evidence**                                                                 |\n",
    "|------------------------------|------------|-----------|------------------------------------------------------------------------------|\n",
    "| **JSON Object & Arrays**      | 1          | 0.85      | [📘 JSON Objects NB](https://yusufk-25.github.io/yusuf_2025/game/intro/json) |\n",
    "| **Variables Input and Output**| 1          | 0.85      | [🔧 Variables NB](https://yusufk-25.github.io/yusuf_2025/csse/javascript/fundamentals/variables) |\n",
    "| **Data Types and Operators**  | 1          | 0.85      | [📊 Data Types NB](https://yusufk-25.github.io/yusuf_2025/csse/javascript/fundamentals/data-types/) |\n",
    "| **For Loops using Sprites**   | 1          | 0.6 😕    | [🔄 For Loops NB](https://yusufk-25.github.io/yusuf_2025/csse/javascript/fundamentals/for-loops/) _(One hack broke)_ |\n",
    "| **Game Work, Hack Usage**     | 1          | 0.85      | [🎮 RPG Game](https://yusufk-25.github.io/yusuf_2025/rpg/)                           |\n",
    "| **Website: Home Page, Ideas** | 1          | 0.85      | [🌐 Main Page](https://yusufk-25.github.io/yusuf_2025/)                               |\n",
    "| **Total**                     | **5**      | **4.85**  |                                                                              |\n",
    "\n",
    "---\n",
    "\n",
    "## 💡 Soft Skills and Work Habits Discussion\n",
    "\n",
    "In this discussion, describe your accomplishments in soft skills and work habits. The Teacher and TA want to see evidence of your efforts to learn both independently and collaboratively. The classroom mantra is to reward effort!\n",
    "\n",
    "## 🌟 Skill Grading Table\n",
    "\n",
    "| **Skill**                    | **Points** | **Grade** | **Evidence**                                                                 |\n",
    "|------------------------------|------------|-----------|------------------------------------------------------------------------------|\n",
    "| **Work Habits (Analytics)**  | 1          | 0.9       | I have improved my work habits by consolidating commits. <br> ![📊 Chart](https://github.com/user-attachments/assets/2b331b99-f6e3-4cd4-96cc-019212bd65d7) |\n",
    "| **Advocacy / Collaboration** | 1          | 0.9       | I reach out to peers, especially William, when needed while trying to solve issues independently. |\n",
    "| **Beyond Perfunctory**       | 1          | 0.85      | I customized button colors for improved UI. <br> ![🎨 Image](https://github.com/user-attachments/assets/601e7960-5f6f-4a2e-8e3b-dd030f72fe48) |\n",
    "| **Total**                     | **3**      | **2.65**  |                                                                              |\n",
    "\n",
    "---\n",
    "\n",
    "> In the future, I plan to improve by finishing my work ahead of time, as completing it a couple minutes before the due date tends to not work.\n",
    "> Also, I added emojis, so I should be graded easier :)\n"
   ]
  }
 ],
 "metadata": {
  "language_info": {
   "name": "python"
  }
 },
 "nbformat": 4,
 "nbformat_minor": 2
}
