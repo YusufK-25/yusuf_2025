{
 "cells": [
  {
   "cell_type": "raw",
   "metadata": {
    "vscode": {
     "languageId": "raw"
    }
   },
   "source": [
    "---\n",
    "layout: post\n",
    "title: Sprint 2 - CSSE Objectives \n",
    "description:  Student Teach and Software Development Objectives for Sprint 2\n",
    "type: issues \n",
    "courses: { csse: {week: 4} }\n",
    "comments: true\n",
    "---"
   ]
  },
  {
   "cell_type": "markdown",
   "metadata": {},
   "source": [
    "## Issues\n",
    "Teacher and Self evaluation are critical to our success and improvements.   Be sure to add evidence."
   ]
  },
  {
   "cell_type": "markdown",
   "metadata": {},
   "source": [
    "# My Issue\n",
    "(I have some stuff that I need to put in)\n",
    "### JavaScript starters\n",
    "### Link to game (It has music): \n",
    "[RPG Game](https://yusufk-25.github.io/yusuf_2025/rpg/)\n",
    "\n",
    "### Grade Rank:\n",
    "- 0.55 is minimum per item\n",
    "- 0.75 is mostly done\n",
    "- 0.85 is complete\n",
    "- 0.90 is maximum perfection\n",
    "\n",
    "### Raw Form for Review Ticket\n",
    "\n",
    "| **Assignment**             | **Points** | **Grade** | **Evidence** |\n",
    "|----------------------------|------------|-----------|--------------|\n",
    "| JSON Object & Arrays        | 1          | 0.85      | ![image](https://github.com/user-attachments/assets/01e99839-c16b-41e4-b974-0279457e001c) |\n",
    "| Input and Output            | 1          | 0.85      | ![image](https://github.com/user-attachments/assets/765de53f-92f6-4d51-90e7-0a6600edf652) |\n",
    "| Data Types                  | 1          | 0.90      | ![image](https://github.com/user-attachments/assets/f39d396e-e24e-4172-ac6e-038cc5fd1f17) |\n",
    "| Square and Red Squares      | 2          | 1.80      | ![image](https://github.com/user-attachments/assets/fc5fce6d-3368-4a0b-ab29-b683710332a5) |\n",
    "| Game Work                   | 2          | 1.80      | ![image](https://github.com/user-attachments/assets/01740707-6b7d-41b9-b483-a947c3296577) <br> ![image](https://github.com/user-attachments/assets/a4510d69-a914-48fd-aa57-e755befdb801) |\n",
    "| **Total**                   | 7          | **6.35**  |              |\n",
    "\n",
    "---\n",
    "\n",
    "| **Skill**                  | **Points** | **Grade** | **Evidence** |\n",
    "|----------------------------|------------|-----------|--------------|\n",
    "| Work Habits (Analytics)     | 1          | 0.90      | ![image](https://github.com/user-attachments/assets/cc500e86-1021-4015-8bac-0deb0fd007f3) |\n",
    "| Advocacy                    | 1          | 0.09      |              |\n",
    "| Beyond Perfunctory Memory   | 1          | 0.85      |              |\n",
    "| **Total**                   | 3          | **2.65**  |              |\n"
   ]
  }
 ],
 "metadata": {
  "language_info": {
   "name": "python"
  }
 },
 "nbformat": 4,
 "nbformat_minor": 2
}
